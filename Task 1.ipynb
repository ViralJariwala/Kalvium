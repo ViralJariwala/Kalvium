{
 "cells": [
  {
   "cell_type": "markdown",
   "id": "9b2d0e9c",
   "metadata": {},
   "source": [
    "# Exercise1:  Rock Paper Scissor Game\n"
   ]
  },
  {
   "cell_type": "code",
   "execution_count": null,
   "id": "c15aff23",
   "metadata": {},
   "outputs": [
    {
     "name": "stdout",
     "output_type": "stream",
     "text": [
      "Welcome to the Rock Paper Scissor Game\n",
      "Do you want to play with computer or another player ('Enter Computer/player2'): Computer\n",
      "Select Your Choice (Rock, Paper or Scissor): Rock\n",
      "Player1 Selected:  rock\n",
      "Computer selected:  rock\n",
      "It's a Tie!!\n"
     ]
    }
   ],
   "source": [
    "import random\n",
    "print(\"Welcome to the Rock Paper Scissor Game\")\n",
    "while True:\n",
    "    t = [\"rock\", \"paper\", \"scissor\"]\n",
    "    x = input(\"Do you want to play with computer or another player ('Enter Computer/player2'): \").lower()\n",
    "    \n",
    "    if x=='computer':\n",
    "        player1 = input(\"Select Your Choice (Rock, Paper or Scissor): \").lower()\n",
    "        if player1 not in t:\n",
    "            print(\"Invalid input\")\n",
    "        else:\n",
    "            print(\"Player1 Selected: \", player1)\n",
    "            pc = random.choice(['rock', 'paper', 'scissor']).lower()\n",
    "            print(\"Computer selected: \",pc)\n",
    "            if player1==\"rock\" and pc==\"paper\":\n",
    "                print(\"Congratulations Computer Won!\")\n",
    "            elif player1==\"paper\" and pc==\"scissor\":\n",
    "                print(\"Congratulations Computer Won!\")\n",
    "            elif player1==\"scissor\" and pc==\"rock\":\n",
    "                print(\"Congratulations Computer Won!\")\n",
    "            elif player1==pc:\n",
    "                print(\"It's a Tie!!\")\n",
    "            else:\n",
    "                print(\"Congratulations Player1 Won!\")\n",
    "            \n",
    "    elif x==\"player2\":\n",
    "        player1 = input(\"Select Your Choice (Rock, Paper or Scissor): \").lower()\n",
    "        if player1 not in t:\n",
    "                print(\"Invalid input\")\n",
    "        else:\n",
    "            print(\"Player1 Selected: \", player1)\n",
    "            player2= input(\"Select Your Choice (Rock, Paper or Scissor): \").lower()\n",
    "            print(\"Player2 selected: \", player2)\n",
    "            if player1==\"rock\" and player2==\"paper\":\n",
    "                print(\"Congratulations Player2 Won!\")\n",
    "            elif player1==\"paper\" and player2==\"scissor\":\n",
    "                print(\"Congratulations Player2 Won!\")\n",
    "            elif player1==\"scissor\" and pc==\"rock\":\n",
    "                print(\"Congratulations Player2 Won!\")\n",
    "            elif player1==pc:\n",
    "                print(\"It's a Tie!!\")\n",
    "            else:\n",
    "                print(\"Congratulations Player1 Won!\")\n",
    "            \n",
    "    else:\n",
    "        print(\"Incorrect input\")\n",
    "            \n",
    "    a=input(\"Do you want to continue. Type(y/n): \").lower()\n",
    "    if a=='y':\n",
    "        continue\n",
    "    elif a=='n':\n",
    "        break;\n",
    "    else:\n",
    "        print(\"Invalid input\")\n",
    "        break;\n",
    "    \n",
    "            \n",
    "print(\"Thankyou for playing. We wish to see you agian!\")        "
   ]
  }
 ],
 "metadata": {
  "kernelspec": {
   "display_name": "Python 3 (ipykernel)",
   "language": "python",
   "name": "python3"
  },
  "language_info": {
   "codemirror_mode": {
    "name": "ipython",
    "version": 3
   },
   "file_extension": ".py",
   "mimetype": "text/x-python",
   "name": "python",
   "nbconvert_exporter": "python",
   "pygments_lexer": "ipython3",
   "version": "3.9.12"
  }
 },
 "nbformat": 4,
 "nbformat_minor": 5
}
